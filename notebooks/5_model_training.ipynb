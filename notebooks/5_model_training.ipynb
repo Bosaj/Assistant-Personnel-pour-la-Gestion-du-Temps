{
 "cells": [
  {
   "cell_type": "code",
   "execution_count": 29,
   "id": "7233e990",
   "metadata": {},
   "outputs": [],
   "source": [
    "import numpy as np\n",
    "import torch\n",
    "import torch.nn as nn\n",
    "import torch.optim as optim\n",
    "import random\n",
    "from collections import deque\n",
    "import matplotlib.pyplot as plt\n",
    "import pandas as pd\n",
    "import os\n",
    "from tqdm.notebook import tqdm\n",
    "import pickle"
   ]
  },
  {
   "cell_type": "code",
   "execution_count": 30,
   "id": "5059e2e8",
   "metadata": {},
   "outputs": [],
   "source": [
    "from environment_setup import ScheduleEnv, df, NUM_ACTIVITIES, NUM_TIME_SLOTS"
   ]
  },
  {
   "cell_type": "code",
   "execution_count": 31,
   "id": "4ebd7e7a",
   "metadata": {},
   "outputs": [],
   "source": [
    "# 2. Charger ou redéfinir le modèle DQN\n",
    "class DQNetwork(nn.Module):\n",
    "    def __init__(self, input_dim, output_dim):\n",
    "        super(DQNetwork, self).__init__()\n",
    "        self.fc1 = nn.Linear(input_dim, 128)\n",
    "        self.relu = nn.ReLU()\n",
    "        self.fc2 = nn.Linear(128, 64)\n",
    "        self.fc3 = nn.Linear(64, output_dim)\n",
    "\n",
    "    def forward(self, state):\n",
    "        x = self.relu(self.fc1(state))\n",
    "        x = self.relu(self.fc2(x))\n",
    "        return self.fc3(x)"
   ]
  },
  {
   "cell_type": "code",
   "execution_count": 32,
   "id": "6e257737",
   "metadata": {},
   "outputs": [],
   "source": [
    "# 3. Configurer les paramètres d'entraînement\n",
    "state_size = NUM_TIME_SLOTS  # 24\n",
    "action_size = NUM_ACTIVITIES\n",
    "gamma = 0.95            # Facteur de décompte\n",
    "epsilon = 1.0           # Exploration vs exploitation\n",
    "epsilon_decay = 0.995   # Décroissance d'epsilon\n",
    "epsilon_min = 0.1       # Epsilon minimum\n",
    "learning_rate = 0.001   # Taux d'apprentissage\n",
    "batch_size = 64         # Taille du batch pour l'apprentissage\n",
    "memory_size = 10000     # Taille de la mémoire de replay\n",
    "num_episodes = 1000     # Nombre d'épisodes d'entraînement"
   ]
  },
  {
   "cell_type": "code",
   "execution_count": 33,
   "id": "3d7a5e81",
   "metadata": {},
   "outputs": [
    {
     "name": "stdout",
     "output_type": "stream",
     "text": [
      "Utilisation de l'appareil: cpu\n"
     ]
    }
   ],
   "source": [
    "# 4. Initialisation du modèle et de l'environnement\n",
    "device = torch.device(\"cuda\" if torch.cuda.is_available() else \"cpu\")\n",
    "print(f\"Utilisation de l'appareil: {device}\")\n",
    "\n",
    "model = DQNetwork(state_size, action_size).to(device)\n",
    "target_model = DQNetwork(state_size, action_size).to(device)\n",
    "target_model.load_state_dict(model.state_dict())\n",
    "target_model.eval()\n",
    "\n",
    "optimizer = optim.Adam(model.parameters(), lr=learning_rate)\n",
    "loss_fn = nn.MSELoss()\n",
    "memory = deque(maxlen=memory_size)"
   ]
  },
  {
   "cell_type": "code",
   "execution_count": 34,
   "id": "d64cefd0",
   "metadata": {},
   "outputs": [],
   "source": [
    "env = ScheduleEnv(df)"
   ]
  },
  {
   "cell_type": "code",
   "execution_count": 35,
   "id": "ca91b4b0",
   "metadata": {},
   "outputs": [],
   "source": [
    "# 5. Fonction pour choisir une action (epsilon-greedy)\n",
    "def choose_action(state, epsilon):\n",
    "    if np.random.rand() <= epsilon:\n",
    "        return random.randrange(action_size)\n",
    "    state_tensor = torch.FloatTensor(state).unsqueeze(0).to(device)\n",
    "    with torch.no_grad():\n",
    "        q_values = model(state_tensor)\n",
    "    return torch.argmax(q_values).item()\n"
   ]
  },
  {
   "cell_type": "code",
   "execution_count": 36,
   "id": "6954096c",
   "metadata": {},
   "outputs": [],
   "source": [
    "# 5. Fonction pour choisir une action (epsilon-greedy)\n",
    "def choose_action(state, epsilon):\n",
    "    if np.random.rand() <= epsilon:\n",
    "        return random.randrange(action_size)\n",
    "    state_tensor = torch.FloatTensor(state).unsqueeze(0).to(device)\n",
    "    with torch.no_grad():\n",
    "        q_values = model(state_tensor)\n",
    "    return torch.argmax(q_values).item()\n"
   ]
  },
  {
   "cell_type": "code",
   "execution_count": 37,
   "id": "2ee2e64a",
   "metadata": {},
   "outputs": [],
   "source": [
    "# 7. Fonction pour mettre à jour le modèle cible\n",
    "def update_target_model():\n",
    "    target_model.load_state_dict(model.state_dict())\n"
   ]
  },
  {
   "cell_type": "code",
   "execution_count": 38,
   "id": "71d9e198",
   "metadata": {},
   "outputs": [],
   "source": [
    "# 8. Entraînement du modèle\n",
    "episode_rewards = []\n",
    "losses = []\n",
    "epsilons = []"
   ]
  },
  {
   "cell_type": "code",
   "execution_count": 39,
   "id": "2d4bbac5",
   "metadata": {},
   "outputs": [],
   "source": [
    "update_target_every = 10"
   ]
  },
  {
   "cell_type": "code",
   "execution_count": null,
   "id": "ce3d82d3",
   "metadata": {},
   "outputs": [],
   "source": []
  }
 ],
 "metadata": {
  "kernelspec": {
   "display_name": "base",
   "language": "python",
   "name": "python3"
  },
  "language_info": {
   "codemirror_mode": {
    "name": "ipython",
    "version": 3
   },
   "file_extension": ".py",
   "mimetype": "text/x-python",
   "name": "python",
   "nbconvert_exporter": "python",
   "pygments_lexer": "ipython3",
   "version": "3.12.9"
  }
 },
 "nbformat": 4,
 "nbformat_minor": 5
}
